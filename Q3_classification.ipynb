{
 "cells": [
  {
   "cell_type": "code",
   "execution_count": 4,
   "metadata": {},
   "outputs": [],
   "source": [
    "import csv\n",
    "import pandas as pd\n",
    "import sklearn"
   ]
  },
  {
   "cell_type": "code",
   "execution_count": 5,
   "metadata": {},
   "outputs": [],
   "source": [
    "def load_file(fileName):\n",
    "    dataset = pd.read_table(fileName, header=0, sep=\",\", encoding=\"unicode_escape\")   \n",
    "    return dataset"
   ]
  },
  {
   "cell_type": "code",
   "execution_count": 11,
   "metadata": {},
   "outputs": [
    {
     "name": "stdout",
     "output_type": "stream",
     "text": [
      "Loading data.....\n",
      "Splitting data.....\n",
      "----------------------------------\n",
      "Learning <Classifier 1>\n",
      "----------------------------------\n",
      "Classifying test data......\n",
      "Evaluating results.....\n",
      "Accuracy: -1\n",
      "Precision: -1\n",
      "Recall: -1\n",
      "F-measure: -1\n",
      "Confusion Matrix:\n"
     ]
    }
   ],
   "source": [
    "print(\"Loading data.....\")\n",
    "\n",
    "#Split the data into training (66%) and test (34%) \n",
    "print(\"Splitting data.....\")\n",
    "\n",
    "#Learn a classifier \n",
    "print(\"----------------------------------\")\n",
    "print(\"Learning <Classifier 1>\")\n",
    "print(\"----------------------------------\")\n",
    "#Make predictions\n",
    "print(\"Classifying test data......\")      \n",
    "#Evaluate results\n",
    "accuracy = precision = recall = f_measure = -1    \n",
    "print(\"Evaluating results.....\")\n",
    "print(\"Accuracy:\",accuracy)\n",
    "print(\"Precision:\",precision)\n",
    "print(\"Recall:\",recall)\n",
    "print(\"F-measure:\",f_measure)\n",
    "print (\"Confusion Matrix:\")\n",
    "\n"
   ]
  },
  {
   "cell_type": "code",
   "execution_count": null,
   "metadata": {},
   "outputs": [],
   "source": []
  }
 ],
 "metadata": {
  "kernelspec": {
   "display_name": "Python 3 (ipykernel)",
   "language": "python",
   "name": "python3"
  },
  "language_info": {
   "codemirror_mode": {
    "name": "ipython",
    "version": 3
   },
   "file_extension": ".py",
   "mimetype": "text/x-python",
   "name": "python",
   "nbconvert_exporter": "python",
   "pygments_lexer": "ipython3",
   "version": "3.9.7"
  }
 },
 "nbformat": 4,
 "nbformat_minor": 2
}
