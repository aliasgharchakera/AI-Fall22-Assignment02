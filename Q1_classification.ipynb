{
 "cells": [
  {
   "cell_type": "code",
   "execution_count": 2,
   "metadata": {},
   "outputs": [],
   "source": [
    "import csv\n",
    "import math\n",
    "import pandas as pd\n",
    "import numpy as np\n",
    "from sklearn.model_selection import train_test_split"
   ]
  },
  {
   "cell_type": "code",
   "execution_count": 3,
   "metadata": {},
   "outputs": [],
   "source": [
    "def load_file(fileName, inputcols, outputcol):\n",
    "    dataset = pd.read_table(fileName, header=0, sep=\",\", encoding=\"unicode_escape\")\n",
    "    data = dataset[inputcols]\n",
    "    target = dataset[outputcol]\n",
    "\n",
    "    trainingX,testX,trainingY,testY = train_test_split(data,target,test_size=0.33,random_state=43)\n",
    "    \n",
    "    return trainingX,testX,trainingY,testY"
   ]
  },
  {
   "cell_type": "code",
   "execution_count": 4,
   "metadata": {},
   "outputs": [],
   "source": [
    "def get_sigmoid(num):\n",
    "    return 1/(1 + np.exp(-num))"
   ]
  },
  {
   "cell_type": "code",
   "execution_count": 5,
   "metadata": {},
   "outputs": [],
   "source": [
    "def backward_prop(a1, del_out, hiddenNeurons, outputNeurons, learningRate):\n",
    "    #follows w = output- (learningRate*(Etol_weight) throught dot product (error in layers reduced)\n",
    "    change = learningRate* (del_out).dot(np.resize(a1, (outputNeurons,hiddenNeurons)))\n",
    "    # for the gradient\n",
    "    change = np.transpose(np.resize(change,(outputNeurons,hiddenNeurons)))\n",
    "    return change"
   ]
  },
  {
   "cell_type": "code",
   "execution_count": 6,
   "metadata": {},
   "outputs": [],
   "source": [
    "def learn_model(trainingX, trainingY, inputNeurons, hiddenNeurons, outputNeurons, learningRate, epochs):\n",
    "  \n",
    "    classifier = None\n",
    "    #Your custom implementation of neural networks will go here.\n",
    "    hiddenW = np.random.rand(inputNeurons, hiddenNeurons) \n",
    "    outputW = np.random.rand(hiddenNeurons, outputNeurons)\n",
    "    \n",
    "    trainingX_arr = np.array(trainingX)\n",
    "    # print(training_X) \n",
    "    trainingY_arr = np.array(trainingY)\n",
    "    # print(training_Y)\n",
    "\n",
    "    for i in range(epochs):\n",
    "        index = 0 #incremented later\n",
    "        \n",
    "        for val in trainingX_arr:\n",
    "            # print(x)\n",
    "            hiddenList = []\n",
    "            outputList= []\n",
    "            errorList = []\n",
    "        \n",
    "            # Forward propagation\n",
    "            # we are going to assign random weights to the input features.\n",
    "            weights = np.random.randn(inputNeurons, hiddenNeurons) * 0.01\n",
    "            # print(weights)    \n",
    "            bias = np.random.randn((hiddenNeurons)) * 0.01\n",
    "            # print(bias)\n",
    "           \n",
    "            # weightedsum = np.dot(x, weights) + bias\n",
    "            # for the hidden layer Forward propagationp.dot(output_Hidden, weights) + bias\n",
    "            totalHiddenW = np.dot(val, hiddenW) + bias\n",
    "            # print(weightedsum)\n",
    "            hiddenSigmoidVal = get_sigmoid(totalHiddenW)\n",
    "            # print(a1)\n",
    "            hiddenList.append(hiddenSigmoidVal)\n",
    "            # print(output_Hidden)\n",
    "\n",
    "            # for the output layer Forward propagation\n",
    "            totalOutputW = np.dot(hiddenSigmoidVal, outputW)\n",
    "            # print(Sum_output)\n",
    "            outputSigmoidVal = get_sigmoid(totalOutputW)\n",
    "            # print(a2)\n",
    "            outputList.append(outputSigmoidVal)\n",
    "\n",
    "            # Here we have the backward propagation\n",
    "            # First we find the errors for the output layer\n",
    "            # Etol_out = (target-out)* out(1-out) formulae later we dot with a1          \n",
    "            outputError = (trainingY_arr[index] - outputSigmoidVal)\n",
    "            outputNet = outputSigmoidVal * (1 - outputSigmoidVal)\n",
    "            errorW = outputNet*outputError\n",
    "            # print(Etol_weight)\n",
    "            errorList.append(errorW)\n",
    "            # print(errors)\n",
    "        \n",
    "            #for output layer (hidden to output weig change)\n",
    "            outputDelta = backward_prop(hiddenSigmoidVal, errorW, hiddenNeurons, outputNeurons, learningRate)\n",
    "            # print( Weights_o)\n",
    "            outputW +=  outputDelta #+ W_hidden_to_output\n",
    "            # print(weight_out) \n",
    "            \n",
    "\n",
    "            # Second we find the change for the hidden to output layer\n",
    "            # del_hidden = a1*(1-a1)*weight_out.dot(del_out)\n",
    "            hiddenError = np.dot(outputW, errorW)\n",
    "            hiddenNet = hiddenSigmoidVal * (1 - hiddenSigmoidVal) * hiddenError\n",
    "            # print(Etol_hidden)\n",
    "            hiddenDelta = backward_prop(val, hiddenNet, 3, hiddenNeurons, learningRate)\n",
    "            # print(Weights_h)\n",
    "\n",
    "            hiddenW += hiddenDelta\n",
    "            # print(weight_hid) \n",
    "            index += 1\n",
    "        \n",
    "    classifier = {\"hidden_array\": hiddenW ,\"output_array\" : outputW}\n",
    "    print(classifier)\n",
    "    \n",
    "    return classifier"
   ]
  },
  {
   "cell_type": "code",
   "execution_count": 7,
   "metadata": {},
   "outputs": [],
   "source": [
    "def predict(classifier, testdata):\n",
    "    \n",
    "    predicted_val=[]\n",
    "    #Your code to make predictions on test data using the learned model will go here\n",
    "    \n",
    "    \n",
    "    return predicted_val"
   ]
  },
  {
   "cell_type": "code",
   "execution_count": 8,
   "metadata": {},
   "outputs": [],
   "source": [
    "def computeError(actual_class, predicted_class):\n",
    "        \n",
    "    MSE = -1    \n",
    "    #Your code to compute MSE will go here\n",
    "    diff = (actual_class - predicted_class)**2\n",
    "    MSE = np.sum(diff)/len(predicted_class)\n",
    "    \n",
    "    return MSE"
   ]
  },
  {
   "cell_type": "code",
   "execution_count": 9,
   "metadata": {},
   "outputs": [
    {
     "name": "stdout",
     "output_type": "stream",
     "text": [
      "Loading data.....\n",
      "           X1        X2        X3\n",
      "172   7196.75   7157.64   7154.83\n",
      "627  10341.41  10551.87  10604.44\n",
      "137   5874.15   5853.11   5842.07\n",
      "488  11018.80  11116.80  10932.50\n",
      "419  11218.61  11052.86  10914.58\n",
      "..        ...       ...       ...\n",
      "16    5279.17   5105.78   5150.55\n",
      "58    5355.64   5371.47   5401.33\n",
      "277   7512.02   7553.76   7588.94\n",
      "255   7307.24   7263.04   7391.25\n",
      "320   7892.57   7889.24   7884.29\n",
      "\n",
      "[472 rows x 3 columns]\n",
      "Learning model.....\n",
      "{'hidden_array': array([[0.07070623, 0.17439518, 0.50730611, 0.60970725],\n",
      "       [0.77835641, 0.43301273, 0.37058788, 0.76879051],\n",
      "       [0.74936428, 0.93784924, 0.635176  , 0.19976362]]), 'output_array': array([[746.01132394],\n",
      "       [745.87913598],\n",
      "       [746.00722791],\n",
      "       [746.54678564]])}\n",
      "Classifying test data......\n",
      "Evaluating results.....\n"
     ]
    }
   ],
   "source": [
    "features, target = [\"X1\",\"X2\",\"X3\"],\"Y\"\n",
    "\n",
    "print(\"Loading data.....\")\n",
    "trainingX,testX,trainingY,testY = load_file(\"kseindex.csv\", features, target)\n",
    "print(trainingX)\n",
    "print(\"Learning model.....\")\n",
    "model = learn_model(trainingX,trainingY,3,4,1,0.8,10)\n",
    "\n",
    "print(\"Classifying test data......\")      \n",
    "# predictedY = classify(model, testX)\n",
    "\n",
    "print(\"Evaluating results.....\")\n",
    "# computeError(testY,predictedY)"
   ]
  }
 ],
 "metadata": {
  "kernelspec": {
   "display_name": "Python 3.8.10 64-bit (microsoft store)",
   "language": "python",
   "name": "python3"
  },
  "language_info": {
   "codemirror_mode": {
    "name": "ipython",
    "version": 3
   },
   "file_extension": ".py",
   "mimetype": "text/x-python",
   "name": "python",
   "nbconvert_exporter": "python",
   "pygments_lexer": "ipython3",
   "version": "3.8.10"
  },
  "vscode": {
   "interpreter": {
    "hash": "9ec81b5741290afa0545a4f5062f07e05d97808451c29876a22c76fe0d3ca11f"
   }
  }
 },
 "nbformat": 4,
 "nbformat_minor": 2
}
