{
 "cells": [
  {
   "cell_type": "code",
   "execution_count": 34,
   "metadata": {},
   "outputs": [],
   "source": [
    "import csv\n",
    "import pandas as pd\n",
    "from sklearn.model_selection import train_test_split"
   ]
  },
  {
   "cell_type": "code",
   "execution_count": 39,
   "metadata": {},
   "outputs": [],
   "source": [
    "def load_file(fileName, inputcols,outputcol):\n",
    "    dataset = pd.read_table(fileName, header=0, sep=\",\", encoding=\"unicode_escape\")\n",
    "    data = dataset[inputcols]\n",
    "    target = dataset[outputcol]\n",
    "\n",
    "    trainingX,testX,trainingY,testY = train_test_split(data,target,test_size=0.3,random_state=43)\n",
    "    \n",
    "    return trainingX,testX,trainingY,testY"
   ]
  },
  {
   "cell_type": "code",
   "execution_count": 36,
   "metadata": {},
   "outputs": [],
   "source": [
    "def learn_model(trainingX, trainingY,inputNeurons, hiddenNeurons, outputNeurons, learningRate, epochs):\n",
    "  \n",
    "    classifier = None\n",
    "    #Your custom implementation of neural networks will go here.\n",
    "    \n",
    "    \n",
    "    return classifier"
   ]
  },
  {
   "cell_type": "code",
   "execution_count": 37,
   "metadata": {},
   "outputs": [],
   "source": [
    "def predict(classifier, testdata):\n",
    "    \n",
    "    predicted_val=[]\n",
    "    #Your code to make predictions on test data using the learned model will go here\n",
    "    \n",
    "    \n",
    "    return predicted_val"
   ]
  },
  {
   "cell_type": "code",
   "execution_count": 38,
   "metadata": {},
   "outputs": [],
   "source": [
    "def computeError(actual_class, predicted_class):\n",
    "        \n",
    "    MSE = -1    \n",
    "    #Your code to compute MSE will go here\n",
    "    \n",
    "    \n",
    "    return MSE"
   ]
  },
  {
   "cell_type": "code",
   "execution_count": 40,
   "metadata": {},
   "outputs": [
    {
     "name": "stdout",
     "output_type": "stream",
     "text": [
      "Loading data.....\n",
      "Learning model.....\n",
      "Classifying test data......\n",
      "Evaluating results.....\n"
     ]
    }
   ],
   "source": [
    "features, target = [\"X1\",\"X2\",\"X3\"],\"Y\"\n",
    "\n",
    "print(\"Loading data.....\")\n",
    "trainingX,testX,trainingY,testY = load_file(\"kseindex.csv\", features, target)\n",
    "\n",
    "print(\"Learning model.....\")\n",
    "#model = learn_model(trainingX,trainingY,3,4,1,0.8,10)\n",
    "\n",
    "print(\"Classifying test data......\")      \n",
    "#predictedY = classify(model, testX)\n",
    "\n",
    "print(\"Evaluating results.....\")\n",
    "#computeError(testY,predictedY)"
   ]
  }
 ],
 "metadata": {
  "kernelspec": {
   "display_name": "Python 3 (ipykernel)",
   "language": "python",
   "name": "python3"
  },
  "language_info": {
   "codemirror_mode": {
    "name": "ipython",
    "version": 3
   },
   "file_extension": ".py",
   "mimetype": "text/x-python",
   "name": "python",
   "nbconvert_exporter": "python",
   "pygments_lexer": "ipython3",
   "version": "3.9.7"
  }
 },
 "nbformat": 4,
 "nbformat_minor": 2
}
