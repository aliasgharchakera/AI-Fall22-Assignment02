{
 "cells": [
  {
   "cell_type": "code",
   "execution_count": 16,
   "metadata": {},
   "outputs": [],
   "source": [
    "import csv\n",
    "import pandas as pd\n",
    "from sklearn.feature_extraction.text import CountVectorizer\n",
    "from sklearn.feature_extraction.text import TfidfTransformer\n",
    "from sklearn.model_selection import train_test_split\n"
   ]
  },
  {
   "cell_type": "code",
   "execution_count": 17,
   "metadata": {},
   "outputs": [],
   "source": [
    "def load_file(fileName):\n",
    "    dataset = pd.read_table(fileName, header=0, sep=\",\", encoding=\"unicode_escape\")\n",
    "    \n",
    "    return dataset"
   ]
  },
  {
   "cell_type": "code",
   "execution_count": 18,
   "metadata": {},
   "outputs": [],
   "source": [
    "# preprocess creates the term frequency matrix for the review data set\n",
    "def preprocess(data):\n",
    "    count_vectorizer = CountVectorizer()\n",
    "    data = count_vectorizer.fit_transform(data)\n",
    "    #tfidf_data = TfidfTransformer(use_idf=False).fit_transform(data)\n",
    "\n",
    "    return data"
   ]
  },
  {
   "cell_type": "code",
   "execution_count": 19,
   "metadata": {},
   "outputs": [],
   "source": [
    "def learn_model(data,target):\n",
    "  \n",
    "    classifier = None\n",
    "    #Your custom implementation of NaiveBayes classifier will go here.\n",
    "    \n",
    "    \n",
    "    return classifier"
   ]
  },
  {
   "cell_type": "code",
   "execution_count": 20,
   "metadata": {},
   "outputs": [],
   "source": [
    "def classify(classifier, testdata):\n",
    "    \n",
    "    predicted_val=[]\n",
    "    #Your code to classify test data using the learned model will go here\n",
    "    \n",
    "    \n",
    "    return predicted_val"
   ]
  },
  {
   "cell_type": "code",
   "execution_count": 21,
   "metadata": {},
   "outputs": [],
   "source": [
    "def evaluate(actual_class, predicted_class):\n",
    "        \n",
    "    accuracy = precision = recall = f_measure = -1    \n",
    "    #Your code to evaluate the model will go here. The code will print overall model's accuracy and precision \n",
    "    #and recall for each class label.\n",
    "    \n",
    "    \n",
    "    print(\"Accuracy:\",accuracy)\n",
    "    print(\"Precision:\",precision)\n",
    "    print(\"Recall:\",recall)\n",
    "    print(\"F-measure:\",f_measure)\n",
    "    print (\"Confusion Matrix:\")\n",
    "    #Write your code to print confusion matrix here"
   ]
  },
  {
   "cell_type": "code",
   "execution_count": 22,
   "metadata": {},
   "outputs": [
    {
     "name": "stdout",
     "output_type": "stream",
     "text": [
      "Loading data.....\n",
      "preprocessing data to construct word_vectors.....\n",
      "Learning model.....\n",
      "Classifying test data......\n",
      "Evaluating results.....\n",
      "Accuracy: -1\n",
      "Precision: -1\n",
      "Recall: -1\n",
      "F-measure: -1\n",
      "Confusion Matrix:\n"
     ]
    }
   ],
   "source": [
    "features = [\"SUMMARY\", \"categories\", \"sub_categories\"]\n",
    "\n",
    "print(\"Loading data.....\")\n",
    "dataset = load_file(\"TextClassification_Data.csv\")\n",
    "data,target = dataset[features[0]].fillna(\" \"), dataset[features[1]]\n",
    "\n",
    "print(\"preprocessing data to construct word_vectors.....\")\n",
    "word_vectors = preprocess(data)\n",
    "    \n",
    "trainingX,testX,trainingY,testY = train_test_split(word_vectors,target,test_size=0.4,random_state=43)\n",
    "\n",
    "print(\"Learning model.....\")\n",
    "model = learn_model(trainingX,trainingY)\n",
    "\n",
    "print(\"Classifying test data......\")      \n",
    "predictedY = classify(model, testX)\n",
    "\n",
    "print(\"Evaluating results.....\")\n",
    "evaluate(testY,predictedY)"
   ]
  },
  {
   "cell_type": "code",
   "execution_count": null,
   "metadata": {},
   "outputs": [],
   "source": []
  }
 ],
 "metadata": {
  "kernelspec": {
   "display_name": "Python 3 (ipykernel)",
   "language": "python",
   "name": "python3"
  },
  "language_info": {
   "codemirror_mode": {
    "name": "ipython",
    "version": 3
   },
   "file_extension": ".py",
   "mimetype": "text/x-python",
   "name": "python",
   "nbconvert_exporter": "python",
   "pygments_lexer": "ipython3",
   "version": "3.9.7"
  }
 },
 "nbformat": 4,
 "nbformat_minor": 2
}
