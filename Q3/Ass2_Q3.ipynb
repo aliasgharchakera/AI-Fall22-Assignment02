{
 "cells": [
  {
   "cell_type": "code",
   "execution_count": null,
   "metadata": {},
   "outputs": [],
   "source": [
    "import csv\n",
    "import pandas as pd\n",
    "import numpy as np\n",
    "import matplotlib.pyplot as plt\n",
    "import sklearn\n",
    "from unittest import case\n",
    "from sklearn.feature_extraction.text import CountVectorizer, TfidfTransformer\n",
    "from sklearn.model_selection import train_test_split\n",
    "from sklearn.tree import DecisionTreeClassifier\n",
    "from sklearn.ensemble import RandomForestClassifier\n",
    "from sklearn.naive_bayes import GaussianNB\n",
    "from sklearn.discriminant_analysis import LinearDiscriminantAnalysis\n",
    "\n",
    "from sklearn.metrics import accuracy_score, precision_score, recall_score, f1_score, confusion_matrix"
   ]
  },
  {
   "cell_type": "code",
   "execution_count": null,
   "metadata": {},
   "outputs": [],
   "source": [
    "def load_file(fileName):\n",
    "    dataset = pd.read_table(fileName, header=0, sep=\",\", encoding=\"unicode_escape\")   \n",
    "    return dataset"
   ]
  },
  {
   "cell_type": "code",
   "execution_count": null,
   "metadata": {},
   "outputs": [],
   "source": [
    "# preprocess creates the term frequency matrix for the review data set\n",
    "def preprocess(data):\n",
    "    count_vectorizer = CountVectorizer()\n",
    "    data = count_vectorizer.fit_transform(data)\n",
    "    #tfidf_data = TfidfTransformer(use_idf=False).fit_transform(data)\n",
    "\n",
    "    return data"
   ]
  },
  {
   "cell_type": "code",
   "execution_count": null,
   "metadata": {},
   "outputs": [],
   "source": [
    "def learn_model(data, target, classifiers, models):\n",
    "    for c in classifiers:\n",
    "        if c == \"Decision Tree\":\n",
    "            models.append(DecisionTreeClassifier().fit(data, target))\n",
    "        elif c == \"Random Forest\":\n",
    "            models.append(RandomForestClassifier().fit(data, target))\n",
    "        elif c == \"Naive Bayes\":\n",
    "            models.append(GaussianNB().fit(data, target))\n",
    "        elif c == \"Linear Discriminant\":\n",
    "            models.append(LinearDiscriminantAnalysis().fit(data, target))\n",
    "    return models"
   ]
  },
  {
   "cell_type": "code",
   "execution_count": null,
   "metadata": {},
   "outputs": [],
   "source": [
    "def classify(models, testdata):\n",
    "    # predictions = dict()\n",
    "    predictions = []\n",
    "    for classifier in models:\n",
    "        predicted_val=[]\n",
    "        predicted_val = classifier.predict(testdata)\n",
    "        # print(predicted_val)\n",
    "        # predictions[classifier] = predicted_val\n",
    "        predictions.append(predicted_val)\n",
    "    \n",
    "    # print(predictions)\n",
    "    return predictions"
   ]
  },
  {
   "cell_type": "code",
   "execution_count": null,
   "metadata": {},
   "outputs": [],
   "source": [
    "# def accuracy(classifier, actual_class, predicted_class):\n",
    "#     val = accuracy_score(actual_class, predicted_class)\n",
    "#     print(\"The accuracy score for \", classifier,\" classifier is: \", val)"
   ]
  },
  {
   "cell_type": "code",
   "execution_count": null,
   "metadata": {},
   "outputs": [],
   "source": [
    "# def precision(classifier, actual_class, predicted_class):\n",
    "#     val = precision_score(actual_class, predicted_class)\n",
    "#     print(\"The precision score for \", classifier,\" classifier is: \", val)"
   ]
  },
  {
   "cell_type": "code",
   "execution_count": null,
   "metadata": {},
   "outputs": [],
   "source": [
    "# def recall(classifier, actual_class, predicted_class):\n",
    "#     val = recall_score(actual_class, predicted_class)\n",
    "#     print(\"The recall score for \", classifier,\" classifier is: \", val)"
   ]
  },
  {
   "cell_type": "code",
   "execution_count": null,
   "metadata": {},
   "outputs": [],
   "source": [
    "# def fmeasure(classifier, actual_class, predicted_class):\n",
    "#     val = f1_score(actual_class, predicted_class)\n",
    "#     print(\"The precision score for \", classifier,\" classifier is: \", val)"
   ]
  },
  {
   "cell_type": "code",
   "execution_count": null,
   "metadata": {},
   "outputs": [],
   "source": [
    "# def confusion(classifier, actual_class, predicted_class):\n",
    "#     val = confusion_matrix(actual_class, predicted_class)\n",
    "#     print(\"The confusion matrix for \", classifier,\" classifier is: \", val)"
   ]
  },
  {
   "cell_type": "code",
   "execution_count": null,
   "metadata": {},
   "outputs": [],
   "source": [
    "# def evaluate(actual_class, predicted_class, classifiers, models):\n",
    "#     n = 0\n",
    "#     for i in range(len(models)):\n",
    "#         accuracy(\"abc\", actual_class, predicted_class[i])\n",
    "#         precision(\"abc\", actual_class, predicted_class[i])\n",
    "#         recall(\"abc\", actual_class, predicted_class[i])\n",
    "#         fmeasure(\"abc\", actual_class, predicted_class[i])\n",
    "#         confusion(\"abc\", actual_class, predicted_class[i])\n",
    "#         n += 1"
   ]
  },
  {
   "cell_type": "code",
   "execution_count": null,
   "metadata": {},
   "outputs": [],
   "source": [
    "def evaluate(actual_class, predicted_class, classifiers, models):\n",
    "    \n",
    "     for i in range(len(models)):\n",
    "        accuracy = -1 \n",
    "        accuracy = accuracy_score(actual_class, predicted_class[i])\n",
    "        \n",
    "        print(\"The accuracy score for \",classifiers[i],\" classifier is: \",accuracy)"
   ]
  },
  {
   "cell_type": "code",
   "execution_count": null,
   "metadata": {},
   "outputs": [],
   "source": [
    "print(\"Loading data.....\")\n",
    "dataset = load_file(\"fashion-mnist_train.csv\")\n",
    "Y_training=dataset['label']\n",
    "X_training=dataset.drop('label', axis=1)\n",
    "\n",
    "# classifiers=[\"Decision Tree\", \"Random Forest\", \"Naive Bayes\", \"Linear Discriminant\"]\n",
    "classifiers = [\"Decision Tree\"]\n",
    "models=[]\n",
    "\n",
    "datasetTest = load_file(\"fashion-mnist_test.csv\")\n",
    "Y_test=datasetTest['label']\n",
    "X_test=datasetTest.drop('label', axis=1)\n",
    "#Split the data into training (66%) and test (34%) \n",
    "print(\"Splitting data.....\")\n",
    "\n",
    "#Learn a classifier \n",
    "print(\"----------------------------------\")\n",
    "print(\"Learning Decision Tree Classifier\")\n",
    "print(\"----------------------------------\")\n",
    "print(\"Learning Random Forest Classifier\")\n",
    "print(\"----------------------------------\")\n",
    "print(\"Learning Naive Bayes Classifier\")\n",
    "print(\"----------------------------------\")\n",
    "print(\"Learning Linear Discriminant Classifier\")\n",
    "print(\"----------------------------------\")\n",
    "models = learn_model(X_training, Y_training, classifiers, models)\n",
    "#Make predictions\n",
    "print(\"Classifying test data......\")      \n",
    "Y_predicted = classify(models, X_test)\n",
    "# print(Y_predicted)\n",
    "#Evaluate results\n",
    "# accuracy = precision = recall = f_measure = -1    \n",
    "print(\"Evaluating results.....\")\n",
    "evaluate(Y_test, Y_predicted, classifiers, models)\n",
    "# print(\"Accuracy:\",accuracy)\n",
    "# print(\"Precision:\",precision)\n",
    "# print(\"Recall:\",recall)\n",
    "# print(\"F-measure:\",f_measure)\n",
    "# print (\"Confusion Matrix:\")\n",
    "\n"
   ]
  }
 ],
 "metadata": {
  "kernelspec": {
   "display_name": "Python 3.8.10 64-bit (microsoft store)",
   "language": "python",
   "name": "python3"
  },
  "language_info": {
   "codemirror_mode": {
    "name": "ipython",
    "version": 3
   },
   "file_extension": ".py",
   "mimetype": "text/x-python",
   "name": "python",
   "nbconvert_exporter": "python",
   "pygments_lexer": "ipython3",
   "version": "3.8.10"
  },
  "vscode": {
   "interpreter": {
    "hash": "9ec81b5741290afa0545a4f5062f07e05d97808451c29876a22c76fe0d3ca11f"
   }
  }
 },
 "nbformat": 4,
 "nbformat_minor": 2
}
