{
 "cells": [
  {
   "cell_type": "code",
   "execution_count": 60,
   "metadata": {},
   "outputs": [],
   "source": [
    "import csv\n",
    "import pandas as pd\n",
    "import numpy as np\n",
    "import sklearn\n",
    "from sklearn.tree import DecisionTreeClassifier\n",
    "from sklearn.ensemble import RandomForestClassifier\n",
    "from sklearn.naive_bayes import GaussianNB\n",
    "from sklearn.discriminant_analysis import LinearDiscriminantAnalysis\n",
    "from sklearn.metrics import accuracy_score, precision_score, recall_score, f1_score, confusion_matrix"
   ]
  },
  {
   "cell_type": "code",
   "execution_count": 61,
   "metadata": {},
   "outputs": [],
   "source": [
    "def load_file(fileName):\n",
    "    dataset = pd.read_table(fileName, header=0, sep=\",\", encoding=\"unicode_escape\")   \n",
    "    return dataset"
   ]
  },
  {
   "cell_type": "code",
   "execution_count": 62,
   "metadata": {},
   "outputs": [],
   "source": [
    "# preprocess creates the term frequency matrix for the review data set\n",
    "def preprocess(data):\n",
    "    Y = data['label']\n",
    "    X = data.drop('label', axis = 1)\n",
    "\n",
    "    return X, Y"
   ]
  },
  {
   "cell_type": "code",
   "execution_count": 63,
   "metadata": {},
   "outputs": [],
   "source": [
    "def learn_model(data, target, classifiers, models):\n",
    "    for c in classifiers:\n",
    "        if c == \"Decision Tree\":\n",
    "            models.append(DecisionTreeClassifier().fit(data, target))\n",
    "        elif c == \"Random Forest\":\n",
    "            models.append(RandomForestClassifier().fit(data, target))\n",
    "        elif c == \"Naive Bayes\":\n",
    "            models.append(GaussianNB().fit(data, target))\n",
    "        elif c == \"Linear Discriminant\":\n",
    "            models.append(LinearDiscriminantAnalysis().fit(data, target))\n",
    "    return models"
   ]
  },
  {
   "cell_type": "code",
   "execution_count": 64,
   "metadata": {},
   "outputs": [],
   "source": [
    "def classify(models, testdata):\n",
    "    # predictions = dict()\n",
    "    predictions = []\n",
    "    for classifier in models:\n",
    "        predicted_val=[]\n",
    "        predicted_val = classifier.predict(testdata)\n",
    "        # print(predicted_val)\n",
    "        # predictions[classifier] = predicted_val\n",
    "        predictions.append(predicted_val)\n",
    "    \n",
    "    # print(predictions)\n",
    "    return predictions"
   ]
  },
  {
   "cell_type": "code",
   "execution_count": 65,
   "metadata": {},
   "outputs": [],
   "source": [
    "def evaluate(actual_class, predicted_class, classifiers, models):\n",
    "    for i in range(len(models)):\n",
    "        accuracy = accuracy_score(actual_class, predicted_class[i])\n",
    "      #   precision = precision_score(actual_class, predicted_class[i])\n",
    "      #   fmeasure = f1_score(actual_class, predicted_class[i])\n",
    "      #   confusion = confusion_matrix(actual_class, predicted_class[i])\n",
    "        \n",
    "        print(\"The accuracy score for \", classifiers[i], \" classifier is: \", accuracy)\n",
    "      #   print(\"The precision score for \", classifiers[i], \" classifier is: \", precision)\n",
    "      #   print(\"The f1 score for \", classifiers[i], \" classifier is: \", fmeasure)\n",
    "      #   print(\"The confusion matrix for \", classifiers[i], \" classifier is: \", confusion)"
   ]
  },
  {
   "cell_type": "code",
   "execution_count": 66,
   "metadata": {},
   "outputs": [
    {
     "name": "stdout",
     "output_type": "stream",
     "text": [
      "Loading data.....\n",
      "Splitting data.....\n",
      "----------------------------------\n",
      "Learning Decision Tree Classifier\n",
      "----------------------------------\n",
      "Learning Random Forest Classifier\n",
      "----------------------------------\n",
      "Learning Naive Bayes Classifier\n",
      "----------------------------------\n",
      "Learning Linear Discriminant Classifier\n",
      "----------------------------------\n",
      "Classifying test data......\n",
      "Evaluating results.....\n",
      "The accuracy score for  Decision Tree  classifier is:  0.7993\n",
      "The accuracy score for  Random Forest  classifier is:  0.8856\n",
      "The accuracy score for  Naive Bayes  classifier is:  0.5914\n",
      "The accuracy score for  Linear Discriminant  classifier is:  0.8256\n"
     ]
    }
   ],
   "source": [
    "print(\"Loading data.....\")\n",
    "datasetTrain = load_file(\"fashion-mnist_train.csv\")\n",
    "trainingX, trainingY = preprocess(datasetTrain)\n",
    "datasetTest = load_file(\"fashion-mnist_test.csv\")\n",
    "testX, testY = preprocess(datasetTest)\n",
    "\n",
    "classifiers = [\"Decision Tree\", \"Random Forest\", \"Naive Bayes\", \"Linear Discriminant\"]\n",
    "# classifiers = [\"Decision Tree\"]\n",
    "models = []\n",
    "\n",
    "print(\"Splitting data.....\")\n",
    "\n",
    "#Learn a classifier \n",
    "print(\"----------------------------------\")\n",
    "print(\"Learning Decision Tree Classifier\")\n",
    "print(\"----------------------------------\")\n",
    "print(\"Learning Random Forest Classifier\")\n",
    "print(\"----------------------------------\")\n",
    "print(\"Learning Naive Bayes Classifier\")\n",
    "print(\"----------------------------------\")\n",
    "print(\"Learning Linear Discriminant Classifier\")\n",
    "print(\"----------------------------------\")\n",
    "models = learn_model(trainingX, trainingY, classifiers, models)\n",
    "#Make predictions\n",
    "print(\"Classifying test data......\")      \n",
    "predictedY = classify(models, testX)\n",
    "#Evaluate results\n",
    "# accuracy = precision = recall = f_measure = -1    \n",
    "print(\"Evaluating results.....\")\n",
    "evaluate(testY, predictedY, classifiers, models)\n",
    "\n"
   ]
  }
 ],
 "metadata": {
  "kernelspec": {
   "display_name": "Python 3.8.10 64-bit (microsoft store)",
   "language": "python",
   "name": "python3"
  },
  "language_info": {
   "codemirror_mode": {
    "name": "ipython",
    "version": 3
   },
   "file_extension": ".py",
   "mimetype": "text/x-python",
   "name": "python",
   "nbconvert_exporter": "python",
   "pygments_lexer": "ipython3",
   "version": "3.8.10"
  },
  "vscode": {
   "interpreter": {
    "hash": "9ec81b5741290afa0545a4f5062f07e05d97808451c29876a22c76fe0d3ca11f"
   }
  }
 },
 "nbformat": 4,
 "nbformat_minor": 2
}
